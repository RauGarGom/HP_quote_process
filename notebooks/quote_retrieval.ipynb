{
 "cells": [
  {
   "cell_type": "code",
   "execution_count": 1,
   "metadata": {},
   "outputs": [
    {
     "name": "stderr",
     "output_type": "stream",
     "text": [
      "c:\\Users\\raulg\\AppData\\Local\\Programs\\Python\\Python312\\Lib\\site-packages\\tqdm\\auto.py:21: TqdmWarning: IProgress not found. Please update jupyter and ipywidgets. See https://ipywidgets.readthedocs.io/en/stable/user_install.html\n",
      "  from .autonotebook import tqdm as notebook_tqdm\n"
     ]
    }
   ],
   "source": [
    "import os, getpass\n",
    "from dotenv import load_dotenv, find_dotenv\n",
    "from langchain_community.tools.tavily_search import TavilySearchResults\n",
    "from langchain_google_genai import ChatGoogleGenerativeAI\n",
    "from langgraph.graph import MessagesState\n",
    "from langchain_core.messages import HumanMessage, SystemMessage\n",
    "from langgraph.graph import START, StateGraph, END\n",
    "from langgraph.prebuilt import tools_condition\n",
    "from langgraph.prebuilt import ToolNode\n",
    "from IPython.display import Image, display\n",
    "from langchain_core.messages import trim_messages\n",
    "from langchain.output_parsers import PydanticOutputParser, PandasDataFrameOutputParser\n",
    "from langchain_core.prompts import ChatPromptTemplate\n",
    "from pydantic import BaseModel, Field\n",
    "from typing import Optional\n",
    "\n",
    "load_dotenv(find_dotenv())\n",
    "os.environ[\"LANGCHAIN_PROJECT\"] = \"hp_poc\"\n",
    "os.environ[\"LANGCHAIN_TRACING_V2\"] = \"true\"\n"
   ]
  },
  {
   "cell_type": "code",
   "execution_count": 3,
   "metadata": {},
   "outputs": [
    {
     "data": {
      "text/plain": [
       "{'product': 'book',\n",
       " 'quantity': 3,\n",
       " 'material': 'good quality paper',\n",
       " 'finishing': None,\n",
       " 'shape': 'nice',\n",
       " 'length': None,\n",
       " 'width': None,\n",
       " 'height': None}"
      ]
     },
     "execution_count": 3,
     "metadata": {},
     "output_type": "execute_result"
    }
   ],
   "source": [
    "class inquiry(BaseModel):\n",
    "    product: str = Field(description=\"The product name\")\n",
    "    quantity: int = Field(description=\"The quantity of the product\")\n",
    "    material: Optional[str] = Field(description=\"The material of the product\", default=None)\n",
    "    finishing: Optional[str] = Field(description=\"The finishing of the product\", default=None)\n",
    "    shape: Optional[str] = Field(description=\"The shape of the product\", default=None)\n",
    "    length: Optional[float] = Field(description=\"The length of the product\", default=None)\n",
    "    width: Optional[float] = Field(description=\"The width of the product\", default=None)\n",
    "    height: Optional[float] = Field(description=\"The height of the product\", default=None)\n",
    "\n",
    "parser = PydanticOutputParser(pydantic_object=inquiry)\n",
    "prompt = ChatPromptTemplate.from_template('''Extract the desired information from the text {input} and return it in a valid Pydantic object. If any information is not provided, return None.''')\n",
    "model = ChatGoogleGenerativeAI(model=\"gemini-1.5-flash\",temperature=0).with_structured_output(inquiry)\n",
    "\n",
    "model.invoke(input=\"I want to buy three books, made of good quality paper, with a nice cover, and a nice shape.\").model_dump()"
   ]
  },
  {
   "cell_type": "code",
   "execution_count": null,
   "metadata": {},
   "outputs": [],
   "source": []
  }
 ],
 "metadata": {
  "kernelspec": {
   "display_name": ".venv",
   "language": "python",
   "name": "python3"
  },
  "language_info": {
   "codemirror_mode": {
    "name": "ipython",
    "version": 3
   },
   "file_extension": ".py",
   "mimetype": "text/x-python",
   "name": "python",
   "nbconvert_exporter": "python",
   "pygments_lexer": "ipython3",
   "version": "3.13.1"
  }
 },
 "nbformat": 4,
 "nbformat_minor": 2
}
